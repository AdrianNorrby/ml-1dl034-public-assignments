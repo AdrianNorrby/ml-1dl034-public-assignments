{
 "cells": [
  {
   "cell_type": "code",
   "execution_count": 1,
   "metadata": {
    "ExecuteTime": {
     "end_time": "2021-02-09T09:36:17.061125Z",
     "start_time": "2021-02-09T09:36:16.076179Z"
    }
   },
   "outputs": [],
   "source": [
    "import numpy as np\n",
    "import matplotlib.pyplot as plt\n",
    "import matplotlib.ticker as mtick\n",
    "import pandas as pd\n",
    "from treelib import Node, Tree"
   ]
  },
  {
   "cell_type": "markdown",
   "metadata": {},
   "source": [
    "## Introduction to the entropy\n",
    "\n",
    "Entropy is a measure of information, used in many fields, including physics, statistics and machine learning. It describe how much order or disorder there is in random variables (r.v.) or sequences. For instance, if Alice tosses a fair coin and records the result, how many bits of information does she need to send to Bob so that he knows the result as well? He needs exactly one bit (0 = heads, 1 = tail) on average. We always assume they both know what the setup of the experiment is.\n",
    "\n",
    "The entropy is written $H(x)$ and is defined as:\n",
    "$H(x) = \\mathbb{E}[-log_2(x)] = - \\Sigma_{i=1}^N p(x_i) log_2(p(x_i))$.\n",
    "\n",
    "A bit of intuition:\n",
    "1. As a measure of information, we want the entropy to be additive. If you get one e-mail, you get n bits of information, if you get two e-mails, you get n+m bits of information. Unfortunately, when two independant random variables are realized, they are multiplied together : $p(x_a \\cap x_b) = p(x_a)p(x_b)$. In order to make them additive, the logarithm function can be used: $\\log p(x_a \\cap x_b) = \\log p(x_a) + \\log p(x_b)$. \n",
    "2. The rarer the event, the more information must be transferred when it occurs. For instance, if a coin is rigged and always gives tail, Alice doesn't even need to send anything to Bob, since he already know that it will be tail. Remember that both Alice and Bob know the exact setup of the experiment. Newspaper tend to follow this trend as well: they don't talk about how the sun will rise this morning, talk a bit about the weather forecast (a few numbers) but might dedicate a full page to the new, shiney and overhyped tv-series dedicated to the life of Carl XVI Gustaf. So the amount of information is invertly proportional to the probability: $1/p(x)$.\n",
    "3. So far we have $log_2(1/(p(x)) = -log_2(p(x))$, and we take its expectation such that it gives the average information in a random variable. Note that the base of the log is arbitrary, you will often see either $e$ or $2$ as a base. I personnaly enjoy using $log_2$ because the entropy will be in bits which is easier to interpret (with $e$, the entropy will be in nats).\n",
    "\n",
    "### Exercise: Entropy of the Normal distribution\n",
    "\n",
    "Calculate the (base 2) entropy of a Normal distribution.\n",
    "\n",
    "The pdf of the Normal distribution is: $\\exp(-\\frac{(x-\\mu)^2}{2\\sigma^2}) / \\sqrt{2 \\pi \\sigma^2}$.\n",
    "You need to find: $\\mathbb{E}[-log_2(\\exp(-\\frac{(x-\\mu)^2}{2\\sigma^2}) / \\sqrt{2 \\pi \\sigma^2})]$\n",
    "Do it step-by-step, first the log (base 2), then flip the signs, then take the expectation of the remaining formula.\n",
    "\n",
    "The result will be: $\\frac{1}{2} log_2(2 \\pi e \\sigma^2)$\n",
    "\n",
    "Formulas to use (or not, as you want, who am I to dictate anything?):\n",
    "* $\\log_2(a*b) = \\log_2(a) + \\log_2(b)$\n",
    "* $\\log_2(x) = \\log(x)/\\log(2)$\n",
    "* $\\log_2(\\exp(u)) = u/\\log(2)$. Be careful!! The $\\log_2$ is no longer base 2 in the right hand side, but base $e$.\n",
    "* $\\mathbb{E}[ax + by] = a\\mathbb{E}[x] + b\\mathbb{E}[y]$. That means that all the constants go out of the expectation. In this case, both $\\mu$ and $\\sigma^2$ are constants. $x$ is not constant.\n",
    "* $\\mathbb{E}[x] = \\mu$ and $\\mathbb{V}[x] = \\sigma^2$.\n",
    "* $\\mathbb{E}[(x - \\mu)^2 / \\sigma^2] = \\mathbb{E}[(x - \\mu)^2] / \\sigma^2 = \\mathbb{V}[x] / \\sigma^2 = \\sigma^2/\\sigma^2 = 1$\n",
    "* $1/\\log(2) = \\log_2(2^{1/log(2)}) = \\log_2(e)$\n",
    "\n",
    "Now that you have found the entropy of a normal distribution we can wonder about the intuitive meaning of the thing. First, the entropy has only one variable: $\\sigma^2$. Let's imagine a friend of yours invented a new die that, when tossed gives you a random number sampled from a normal distribution (rounded to the nearest integer). He calls it the Normal Die ™️ (confusing name, I know, there's already a lot of hatred for the normal distribution being called that way). Like for a regular die, where you know the probability of each face, you are given the mean and the variance. If I buy one such die, and toss it, how many bits do I need to send to you for you to know which value is displayed on the die? The entropy formula gives you that, but:\n",
    "* If the mean is 0, 20 or -37, the entropy doesn't change. This is because you know the mean is common knowledge, and your friend only needs to send the deviation from the mean to you. If the mean is 20, he tosses the dice and get 24, but only needs to send 24-20=+4 (2 bits, plus a sign bit = 3 bits in total) to you. When you get the result: +4, you just have to add the mean to recover the true number. Remember that the mean and variance are common knowledge.\n",
    "* The bigger $\\sigma^2$, the bigger the variance and the more bits I need to send to you.\n",
    "This is what the formula above states, meaning entropy is also a measure of uncertainty. More variance means more bits to send, so a bigger entropy.\n",
    "\n",
    "Advanced note: you might notice that if the variance is 0, the log is negative ($- \\infty$) do not get confused, and just considered that negative entropies get clipped to 0 bits. This works because we rounded the values generated by the continuous normal distribution.$"
   ]
  },
  {
   "cell_type": "markdown",
   "metadata": {},
   "source": [
    "## Entropy of a coin toss\n",
    "\n",
    "Let's imagine we can choose how to rig a coin so that we can choose its average probability of heads. That setup is exactly how a Bernoulli r.v. works. You choose its parameter $\\theta$ and then $p(heads) = \\theta$. Note that $\\theta \\in [0, 1]$ and for most coins: $\\theta = 0.5$.\n",
    "\n",
    "* Step 1: Find and write down the formula for the entropy of a bernoulli variable on the internet. Wikipedia is an excellent resource in statistics (and often reliable, but don't cite it still). Do not forget to change the $log$ into $log_2$!\n",
    "\n",
    "* Step 2: The formula involves $x * log_2(x)$. What happens when $x = 0$? We get $0 * -\\infty = I.F.$, so this is clearly not the right approach. The good way of finding out what happens is by applying [L'Hôpital's rule](https://en.wikipedia.org/wiki/L%27H%C3%B4pital%27s_rule) and finding the limit of $x * log(x)$ when $x$ approaches 0. You can either do it as an exercise if you think it's fun (it is quick and rewarding in practice, give it a shot :), or you can look up the answer in the Wikipedia page above.\n",
    "\n",
    "* Step 3: Plot the entropy of a bernoulli r.v. below. Do not forget to use the right base for the log (log base 2 exists in numpy, look it up). And make it so that it works even when $p$ is 0 and 1.\n",
    "\n",
    "* Step 4: What can you conclude about the plot? Does it correspond to what is written up there (what is the entropy when the parameter is 0, 0.5, 1)? What parameter gives the highest entropy?"
   ]
  },
  {
   "cell_type": "code",
   "execution_count": 3,
   "metadata": {
    "ExecuteTime": {
     "end_time": "2021-02-09T09:36:45.395767Z",
     "start_time": "2021-02-09T09:36:45.224355Z"
    }
   },
   "outputs": [
    {
     "data": {
      "image/png": "[encoded data removed]",
      "text/plain": [
       "<Figure size 432x288 with 1 Axes>"
      ]
     },
     "metadata": {
      "needs_background": "light"
     },
     "output_type": "display_data"
    }
   ],
   "source": [
    "# Domain of the parameter p of a Bernoulli rv: p ∈ [0, 1]\n",
    "p = np.linspace(0, 1, 1000)\n",
    "\n",
    "def xln2x(x):\n",
    "    \"\"\" Computes x * log_2(x) in a safe way.\"\"\"\n",
    "    # If x is not a numpy array, it becomes one\n",
    "    if not isinstance(x, np.ndarray):\n",
    "        x = np.array(x)\n",
    "    # STUDENT CODE:\n",
    "    return ...\n",
    "\n",
    "# STUDENT CODE:\n",
    "# Use the entropy formula you found in Step 1 above.\n",
    "entropy = ...\n",
    "\n",
    "plt.figure()\n",
    "plt.title(\"Entropy of a Bernoulli random variable\")\n",
    "plt.plot(p, entropy)\n",
    "plt.xlabel(\"Probability of heads\")\n",
    "plt.gca().get_xaxis().set_major_formatter(mtick.PercentFormatter(1.0))\n",
    "plt.ylabel(\"Entropy [bits]\")\n",
    "plt.grid()\n",
    "plt.show()"
   ]
  },
  {
   "cell_type": "markdown",
   "metadata": {
    "ExecuteTime": {
     "end_time": "2021-02-05T11:07:36.677016Z",
     "start_time": "2021-02-05T11:07:36.628770Z"
    }
   },
   "source": [
    "## Entropy of a sequence\n",
    "\n",
    "Let's now make the distinction between the empirical entropy -- the average information in a sequence -- with the information content -- how much information there is in total in a sequence. For instance, a fair coin has an entropy of 1 bit, but when tossed 4 times has an information content of 4 bits (a.k.a a nibble).\n",
    "\n",
    "Now implement a function that calculates the entropy of a binary sequence yourself. First, calcultate the parameter p, then plug it in the formula of the entropy (bernoulli)."
   ]
  },
  {
   "cell_type": "code",
   "execution_count": 4,
   "metadata": {
    "ExecuteTime": {
     "end_time": "2021-02-09T09:38:08.945369Z",
     "start_time": "2021-02-09T09:38:08.927559Z"
    }
   },
   "outputs": [],
   "source": [
    "def binary_entropy(seq):\n",
    "    \"\"\" Returns the empirical entropy of a sequence.\n",
    "    Input values should contain only 0s and 1s.\"\"\"\n",
    "    # If seq is not a numpy array, it becomes one\n",
    "    if not isinstance(seq, np.ndarray):\n",
    "        seq = np.array(seq)\n",
    "    # STUDENT CODE:\n",
    "    return ...\n",
    "\n",
    "assert binary_entropy([0]) == 0, \"Failed test 1\"\n",
    "assert binary_entropy([0, 1]) == 1, \"Failed test 2\"\n",
    "assert binary_entropy([0]*10 + [1]*10) == 1, \"Failed test 3\"\n",
    "assert np.abs(binary_entropy([0] + [1]*8) - 0.50326) < 1e-5, \"Failed test 4\"\n",
    "assert binary_entropy([]) == 0, \"Failed test 5\""
   ]
  },
  {
   "cell_type": "markdown",
   "metadata": {},
   "source": [
    "## Find the animal in 20 questions\n",
    "\n",
    "As a kid, you might have travelled by car over long distances and been bored for hours on end and played this game: find the animal/object in so many questions. Perhaps you just were lucky and played the Sims 2 on a portable PlayStation 2. Whatever.\n",
    "\n",
    "This exercise consists of automating the 20 questions game such that it asks 20 questions (or more or less) to find an animal the player has chosen. When you have kids on your own someday (or already), you can entertain your kids for 12+ hours when you travel.\n",
    "\n",
    "You are given a dataset, the columns correspond to features, the rows to names of animals. A given animal has a set of binary features. For instance, a bear has hair, lactate, is a mammal and predator, has teeth, breathes, and so on.\n",
    "\n",
    "You will have to implement an algorithm that creates a binary decision tree and use this tree to create a questionaire (this step is already done for you below) and find an animal in as few guesses as possible.\n",
    "The algorithm to use is ID3, you can refer to the lecture material to find the algorithm. The measure to use is the entropy. You can try with the information gain if you want to."
   ]
  },
  {
   "cell_type": "code",
   "execution_count": 5,
   "metadata": {
    "ExecuteTime": {
     "end_time": "2021-02-09T09:38:22.356958Z",
     "start_time": "2021-02-09T09:38:22.232210Z"
    }
   },
   "outputs": [
    {
     "data": {
      "text/html": [
       "<div>\n",
       "<style scoped>\n",
       "    .dataframe tbody tr th:only-of-type {\n",
       "        vertical-align: middle;\n",
       "    }\n",
       "\n",
       "    .dataframe tbody tr th {\n",
       "        vertical-align: top;\n",
       "    }\n",
       "\n",
       "    .dataframe thead th {\n",
       "        text-align: right;\n",
       "    }\n",
       "</style>\n",
       "<table border=\"1\" class=\"dataframe\">\n",
       "  <thead>\n",
       "    <tr style=\"text-align: right;\">\n",
       "      <th></th>\n",
       "      <th>is it warm blooded?</th>\n",
       "      <th>can it fly?</th>\n",
       "      <th>is it a vertebrate?</th>\n",
       "      <th>is it endangered?</th>\n",
       "      <th>does it live in groups?</th>\n",
       "      <th>does it have hair?</th>\n",
       "    </tr>\n",
       "  </thead>\n",
       "  <tbody>\n",
       "    <tr>\n",
       "      <th>ant</th>\n",
       "      <td>0</td>\n",
       "      <td>0</td>\n",
       "      <td>0</td>\n",
       "      <td>0</td>\n",
       "      <td>1</td>\n",
       "      <td>0</td>\n",
       "    </tr>\n",
       "    <tr>\n",
       "      <th>bee</th>\n",
       "      <td>0</td>\n",
       "      <td>1</td>\n",
       "      <td>0</td>\n",
       "      <td>0</td>\n",
       "      <td>1</td>\n",
       "      <td>1</td>\n",
       "    </tr>\n",
       "    <tr>\n",
       "      <th>cat</th>\n",
       "      <td>1</td>\n",
       "      <td>0</td>\n",
       "      <td>1</td>\n",
       "      <td>0</td>\n",
       "      <td>0</td>\n",
       "      <td>1</td>\n",
       "    </tr>\n",
       "    <tr>\n",
       "      <th>cpl</th>\n",
       "      <td>0</td>\n",
       "      <td>0</td>\n",
       "      <td>0</td>\n",
       "      <td>0</td>\n",
       "      <td>0</td>\n",
       "      <td>1</td>\n",
       "    </tr>\n",
       "    <tr>\n",
       "      <th>duck</th>\n",
       "      <td>1</td>\n",
       "      <td>1</td>\n",
       "      <td>1</td>\n",
       "      <td>0</td>\n",
       "      <td>1</td>\n",
       "      <td>0</td>\n",
       "    </tr>\n",
       "  </tbody>\n",
       "</table>\n",
       "</div>"
      ],
      "text/plain": [
       "      is it warm blooded?  can it fly?  is it a vertebrate?  \\\n",
       "ant                     0            0                    0   \n",
       "bee                     0            1                    0   \n",
       "cat                     1            0                    1   \n",
       "cpl                     0            0                    0   \n",
       "duck                    1            1                    1   \n",
       "\n",
       "      is it endangered?  does it live in groups?  does it have hair?  \n",
       "ant                   0                        1                   0  \n",
       "bee                   0                        1                   1  \n",
       "cat                   0                        0                   1  \n",
       "cpl                   0                        0                   1  \n",
       "duck                  0                        1                   0  "
      ]
     },
     "execution_count": 5,
     "metadata": {},
     "output_type": "execute_result"
    }
   ],
   "source": [
    "# Download and load the dataset into pandas\n",
    "dataset_url = \"https://raw.githubusercontent.com/earthtojake/20q/master/data/small.csv\"\n",
    "# There is a bigger dataset at\n",
    "#dataset_url = \"https://raw.githubusercontent.com/earthtojake/20q/master/data/big.csv\"\n",
    "df = pd.read_csv(dataset_url, index_col=0)\n",
    "df.head()"
   ]
  },
  {
   "cell_type": "code",
   "execution_count": 6,
   "metadata": {
    "ExecuteTime": {
     "end_time": "2021-02-09T09:38:47.846885Z",
     "start_time": "2021-02-09T09:38:47.774720Z"
    },
    "scrolled": false
   },
   "outputs": [
    {
     "name": "stdout",
     "output_type": "stream",
     "text": [
      "Root\n",
      "└── is it warm blooded?\n",
      "    ├── +is it endangered?\n",
      "    │   ├── +can it fly?\n",
      "    │   │   ├── +eagle\n",
      "    │   │   └── -does it have hair?\n",
      "    │   │       ├── +man\n",
      "    │   │       └── -elephant\n",
      "    │   └── -can it fly?\n",
      "    │       ├── +duck\n",
      "    │       └── -does it live in groups?\n",
      "    │           ├── +rabbit\n",
      "    │           └── -cat\n",
      "    └── -does it live in groups?\n",
      "        ├── +can it fly?\n",
      "        │   ├── +bee\n",
      "        │   └── -is it a vertebrate?\n",
      "        │       ├── +her\n",
      "        │       └── -ant\n",
      "        └── -can it fly?\n",
      "            ├── +fly\n",
      "            └── -is it a vertebrate?\n",
      "                ├── +lizard\n",
      "                └── -cpl\n",
      "\n"
     ]
    }
   ],
   "source": [
    "tree = Tree()\n",
    "tree.create_node(\"Root\", \"root\")  # root node\n",
    "\n",
    "def generate_tree(data, tree, branch=\"\", parent=\"root\"):\n",
    "    \"\"\"Populates the tree with questions and candidate animals.\n",
    "    \n",
    "    Args:\n",
    "        data: The dataset to use\n",
    "        tree: The tree to populate\n",
    "        branch: '+' if the previous condition was true, '-' otherwise.\n",
    "        parent: The parent node, so that we can attach children nodes to it.\n",
    "    \n",
    "    Note: Treelib sorts the name of the nodes by alphabetical order, its important\n",
    "    to name the nodes such that the first one is the result of a positive condition,\n",
    "    the second one, the negative condition. This has been taken care of if you use\n",
    "    the code template by naming the node \"+something\" and \"-something\" (In ASCII, +\n",
    "    (42) is before - (45)).\n",
    "    \"\"\"\n",
    "    # STUDENT CODE:\n",
    "    # Find the column with the highest entropy\n",
    "    entropies = ...\n",
    "    # The columns with a null entropy can be removed\n",
    "    ...\n",
    "    # If there aren't any columns left to discriminate the animals, we stop\n",
    "    # If there is only one animal and plenty of columns, we also stop\n",
    "    no_column_left = ...\n",
    "    one_animal_left = ...\n",
    "    if no_column_left or one_animal_left:\n",
    "        tree.create_node(branch+\", \".join(data.index), parent=parent)\n",
    "        return\n",
    "    # If we are here, it means the data can be split some more.\n",
    "    # entropies might have more columns than the current data, since\n",
    "    # we removed some columns.\n",
    "    ...\n",
    "    # We find the column with the highest entropy\n",
    "    ...\n",
    "    # We add the column to the tree under the current parent\n",
    "    node = tree.create_node(branch + selected_column, parent=parent)\n",
    "    # we split the data by column and remove the said column\n",
    "    ...\n",
    "    \n",
    "    # We generate the branches **recursively**\n",
    "    # If the answer to the question was \"yes\"\n",
    "    generate_tree(data[mask], tree, branch=\"+\", parent=node)\n",
    "    # If the answer to the question was \"false\"\n",
    "    generate_tree(data[~mask], tree, branch=\"-\", parent=node)\n",
    "\n",
    "# The tree is generated\n",
    "generate_tree(df, tree)\n",
    "# The tree is plotted\n",
    "tree.show()"
   ]
  },
  {
   "cell_type": "code",
   "execution_count": 7,
   "metadata": {
    "ExecuteTime": {
     "end_time": "2021-02-09T09:39:01.227691Z",
     "start_time": "2021-02-09T09:39:01.223697Z"
    }
   },
   "outputs": [
    {
     "name": "stdout",
     "output_type": "stream",
     "text": [
      "Depth of the tree: 5\n"
     ]
    }
   ],
   "source": [
    "print(\"Depth of the tree:\", tree.depth())"
   ]
  },
  {
   "cell_type": "code",
   "execution_count": 8,
   "metadata": {
    "ExecuteTime": {
     "end_time": "2021-02-09T09:39:09.359112Z",
     "start_time": "2021-02-09T09:39:05.416230Z"
    }
   },
   "outputs": [
    {
     "name": "stdout",
     "output_type": "stream",
     "text": [
      "Pick an animal!\n",
      "\n",
      "is it warm blooded? n\n",
      "-does it live in groups? n\n",
      "-can it fly? n\n",
      "-is it a vertebrate? y\n",
      "I think you chose a +lizard\n"
     ]
    }
   ],
   "source": [
    "# No need to add code here!\n",
    "# Just run this and enjoy :)\n",
    "def ask_yesno(question):\n",
    "    \"\"\"Checks that the written answer is valid. Iterates otherwise.\"\"\"\n",
    "    while True:\n",
    "        answer = input(question + \" \").lower().strip()\n",
    "        if answer == \"y\" or answer == \"yes\":\n",
    "            return True\n",
    "        if answer == \"n\" or answer == \"no\":\n",
    "            return False\n",
    "        print(\"Just answer 'yes' or 'no'.\")\n",
    "\n",
    "print(\"Pick an animal!\")\n",
    "print()\n",
    "\n",
    "question = tree.children(\"root\")[0]\n",
    "while True:\n",
    "    # Have we found the answer?\n",
    "    if question.is_leaf():\n",
    "        print(\"I think you chose a \" + question.tag)\n",
    "        break\n",
    "    # Otherwise we keep asking\n",
    "    answer = ask_yesno(question.tag)\n",
    "    children = tree.children(question.identifier)\n",
    "    question = children[0] if answer else children[1]"
   ]
  }
 ],
 "metadata": {
  "kernelspec": {
   "display_name": "Python 3",
   "language": "python",
   "name": "python3"
  },
  "language_info": {
   "codemirror_mode": {
    "name": "ipython",
    "version": 3
   },
   "file_extension": ".py",
   "mimetype": "text/x-python",
   "name": "python",
   "nbconvert_exporter": "python",
   "pygments_lexer": "ipython3",
   "version": "3.9.1"
  },
  "varInspector": {
   "cols": {
    "lenName": 16,
    "lenType": 16,
    "lenVar": 40
   },
   "kernels_config": {
    "python": {
     "delete_cmd_postfix": "",
     "delete_cmd_prefix": "del ",
     "library": "var_list.py",
     "varRefreshCmd": "print(var_dic_list())"
    },
    "r": {
     "delete_cmd_postfix": ") ",
     "delete_cmd_prefix": "rm(",
     "library": "var_list.r",
     "varRefreshCmd": "cat(var_dic_list()) "
    }
   },
   "types_to_exclude": [
    "module",
    "function",
    "builtin_function_or_method",
    "instance",
    "_Feature"
   ],
   "window_display": false
  }
 },
 "nbformat": 4,
 "nbformat_minor": 4
}
