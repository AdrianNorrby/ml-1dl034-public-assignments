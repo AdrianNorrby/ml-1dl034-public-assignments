{
 "cells": [
  {
   "cell_type": "markdown",
   "source": [
    "The following notebook shows the pre process of the data before are able to be used in theoretical notebook 1"
   ],
   "metadata": {
    "collapsed": false
   },
   "id": "5ed24a1ce80d536b"
  },
  {
   "cell_type": "code",
   "execution_count": 1,
   "id": "initial_id",
   "metadata": {
    "collapsed": true,
    "ExecuteTime": {
     "end_time": "2024-01-07T13:32:48.024861Z",
     "start_time": "2024-01-07T13:32:47.414209700Z"
    }
   },
   "outputs": [],
   "source": [
    "import pandas as pd\n",
    "import numpy as np"
   ]
  },
  {
   "cell_type": "markdown",
   "source": [
    "#### Load the data, explore and pre-processing\n"
   ],
   "metadata": {
    "collapsed": false
   },
   "id": "7e246a085c91e90c"
  },
  {
   "cell_type": "code",
   "execution_count": 2,
   "outputs": [
    {
     "data": {
      "text/plain": "         sentiment          id                          date     query  \\\n0                0  1467810369  Mon Apr 06 22:19:45 PDT 2009  NO_QUERY   \n1                0  1467810672  Mon Apr 06 22:19:49 PDT 2009  NO_QUERY   \n2                0  1467810917  Mon Apr 06 22:19:53 PDT 2009  NO_QUERY   \n3                0  1467811184  Mon Apr 06 22:19:57 PDT 2009  NO_QUERY   \n4                0  1467811193  Mon Apr 06 22:19:57 PDT 2009  NO_QUERY   \n...            ...         ...                           ...       ...   \n1599995          4  2193601966  Tue Jun 16 08:40:49 PDT 2009  NO_QUERY   \n1599996          4  2193601969  Tue Jun 16 08:40:49 PDT 2009  NO_QUERY   \n1599997          4  2193601991  Tue Jun 16 08:40:49 PDT 2009  NO_QUERY   \n1599998          4  2193602064  Tue Jun 16 08:40:49 PDT 2009  NO_QUERY   \n1599999          4  2193602129  Tue Jun 16 08:40:50 PDT 2009  NO_QUERY   \n\n                    user                                              tweet  \n0        _TheSpecialOne_  @switchfoot http://twitpic.com/2y1zl - Awww, t...  \n1          scotthamilton  is upset that he can't update his Facebook by ...  \n2               mattycus  @Kenichan I dived many times for the ball. Man...  \n3                ElleCTF    my whole body feels itchy and like its on fire   \n4                 Karoli  @nationwideclass no, it's not behaving at all....  \n...                  ...                                                ...  \n1599995  AmandaMarie1028  Just woke up. Having no school is the best fee...  \n1599996      TheWDBoards  TheWDB.com - Very cool to hear old Walt interv...  \n1599997           bpbabe  Are you ready for your MoJo Makeover? Ask me f...  \n1599998     tinydiamondz  Happy 38th Birthday to my boo of alll time!!! ...  \n1599999   RyanTrevMorris  happy #charitytuesday @theNSPCC @SparksCharity...  \n\n[1600000 rows x 6 columns]",
      "text/html": "<div>\n<style scoped>\n    .dataframe tbody tr th:only-of-type {\n        vertical-align: middle;\n    }\n\n    .dataframe tbody tr th {\n        vertical-align: top;\n    }\n\n    .dataframe thead th {\n        text-align: right;\n    }\n</style>\n<table border=\"1\" class=\"dataframe\">\n  <thead>\n    <tr style=\"text-align: right;\">\n      <th></th>\n      <th>sentiment</th>\n      <th>id</th>\n      <th>date</th>\n      <th>query</th>\n      <th>user</th>\n      <th>tweet</th>\n    </tr>\n  </thead>\n  <tbody>\n    <tr>\n      <th>0</th>\n      <td>0</td>\n      <td>1467810369</td>\n      <td>Mon Apr 06 22:19:45 PDT 2009</td>\n      <td>NO_QUERY</td>\n      <td>_TheSpecialOne_</td>\n      <td>@switchfoot http://twitpic.com/2y1zl - Awww, t...</td>\n    </tr>\n    <tr>\n      <th>1</th>\n      <td>0</td>\n      <td>1467810672</td>\n      <td>Mon Apr 06 22:19:49 PDT 2009</td>\n      <td>NO_QUERY</td>\n      <td>scotthamilton</td>\n      <td>is upset that he can't update his Facebook by ...</td>\n    </tr>\n    <tr>\n      <th>2</th>\n      <td>0</td>\n      <td>1467810917</td>\n      <td>Mon Apr 06 22:19:53 PDT 2009</td>\n      <td>NO_QUERY</td>\n      <td>mattycus</td>\n      <td>@Kenichan I dived many times for the ball. Man...</td>\n    </tr>\n    <tr>\n      <th>3</th>\n      <td>0</td>\n      <td>1467811184</td>\n      <td>Mon Apr 06 22:19:57 PDT 2009</td>\n      <td>NO_QUERY</td>\n      <td>ElleCTF</td>\n      <td>my whole body feels itchy and like its on fire</td>\n    </tr>\n    <tr>\n      <th>4</th>\n      <td>0</td>\n      <td>1467811193</td>\n      <td>Mon Apr 06 22:19:57 PDT 2009</td>\n      <td>NO_QUERY</td>\n      <td>Karoli</td>\n      <td>@nationwideclass no, it's not behaving at all....</td>\n    </tr>\n    <tr>\n      <th>...</th>\n      <td>...</td>\n      <td>...</td>\n      <td>...</td>\n      <td>...</td>\n      <td>...</td>\n      <td>...</td>\n    </tr>\n    <tr>\n      <th>1599995</th>\n      <td>4</td>\n      <td>2193601966</td>\n      <td>Tue Jun 16 08:40:49 PDT 2009</td>\n      <td>NO_QUERY</td>\n      <td>AmandaMarie1028</td>\n      <td>Just woke up. Having no school is the best fee...</td>\n    </tr>\n    <tr>\n      <th>1599996</th>\n      <td>4</td>\n      <td>2193601969</td>\n      <td>Tue Jun 16 08:40:49 PDT 2009</td>\n      <td>NO_QUERY</td>\n      <td>TheWDBoards</td>\n      <td>TheWDB.com - Very cool to hear old Walt interv...</td>\n    </tr>\n    <tr>\n      <th>1599997</th>\n      <td>4</td>\n      <td>2193601991</td>\n      <td>Tue Jun 16 08:40:49 PDT 2009</td>\n      <td>NO_QUERY</td>\n      <td>bpbabe</td>\n      <td>Are you ready for your MoJo Makeover? Ask me f...</td>\n    </tr>\n    <tr>\n      <th>1599998</th>\n      <td>4</td>\n      <td>2193602064</td>\n      <td>Tue Jun 16 08:40:49 PDT 2009</td>\n      <td>NO_QUERY</td>\n      <td>tinydiamondz</td>\n      <td>Happy 38th Birthday to my boo of alll time!!! ...</td>\n    </tr>\n    <tr>\n      <th>1599999</th>\n      <td>4</td>\n      <td>2193602129</td>\n      <td>Tue Jun 16 08:40:50 PDT 2009</td>\n      <td>NO_QUERY</td>\n      <td>RyanTrevMorris</td>\n      <td>happy #charitytuesday @theNSPCC @SparksCharity...</td>\n    </tr>\n  </tbody>\n</table>\n<p>1600000 rows × 6 columns</p>\n</div>"
     },
     "execution_count": 2,
     "metadata": {},
     "output_type": "execute_result"
    }
   ],
   "source": [
    "tweets=pd.read_csv('twitter_sentiment_analysis.csv',encoding='latin', \n",
    "                   names = ['sentiment','id','date','query','user','tweet'])\n",
    "tweets"
   ],
   "metadata": {
    "collapsed": false,
    "ExecuteTime": {
     "end_time": "2024-01-07T13:32:51.169980500Z",
     "start_time": "2024-01-07T13:32:48.023583100Z"
    }
   },
   "id": "ac8723c5c8ffa72b"
  },
  {
   "cell_type": "code",
   "execution_count": 3,
   "outputs": [
    {
     "name": "stdout",
     "output_type": "stream",
     "text": [
      "Dataset shape: (200000, 6)\n"
     ]
    }
   ],
   "source": [
    "tweets = tweets.sample(frac=1)\n",
    "tweets = tweets[:200000]\n",
    "print(\"Dataset shape:\", tweets.shape)"
   ],
   "metadata": {
    "collapsed": false,
    "ExecuteTime": {
     "end_time": "2024-01-07T13:32:57.914034100Z",
     "start_time": "2024-01-07T13:32:57.480626800Z"
    }
   },
   "id": "a8fbf466fa80d176"
  },
  {
   "cell_type": "code",
   "execution_count": 4,
   "outputs": [
    {
     "data": {
      "text/plain": "array([0, 4], dtype=int64)"
     },
     "execution_count": 4,
     "metadata": {},
     "output_type": "execute_result"
    }
   ],
   "source": [
    "tweets['sentiment'].unique()"
   ],
   "metadata": {
    "collapsed": false,
    "ExecuteTime": {
     "end_time": "2024-01-07T13:32:57.936781900Z",
     "start_time": "2024-01-07T13:32:57.912854900Z"
    }
   },
   "id": "115a466d39f3dbc0"
  },
  {
   "cell_type": "markdown",
   "source": [
    "#### Currently, (0 = negative and 4 = positive) changing the notation to (0 = negative and 1 = positive)\n"
   ],
   "metadata": {
    "collapsed": false
   },
   "id": "6302e99b543c6a2a"
  },
  {
   "cell_type": "code",
   "execution_count": 5,
   "outputs": [
    {
     "data": {
      "text/plain": "         sentiment          id                          date     query  \\\n668876           0  2246071641  Fri Jun 19 17:03:09 PDT 2009  NO_QUERY   \n491929           0  2183993883  Mon Jun 15 15:16:07 PDT 2009  NO_QUERY   \n1084316          1  1968990643  Fri May 29 22:44:07 PDT 2009  NO_QUERY   \n354938           0  2039868782  Thu Jun 04 23:00:58 PDT 2009  NO_QUERY   \n14619            0  1553789521  Sat Apr 18 15:13:00 PDT 2009  NO_QUERY   \n...            ...         ...                           ...       ...   \n1429336          1  2059715623  Sat Jun 06 17:29:34 PDT 2009  NO_QUERY   \n1209803          1  1988977563  Sun May 31 23:57:28 PDT 2009  NO_QUERY   \n187618           0  1968688516  Fri May 29 21:59:20 PDT 2009  NO_QUERY   \n943057           1  1794909240  Thu May 14 06:47:55 PDT 2009  NO_QUERY   \n1461354          1  2063926789  Sun Jun 07 04:36:40 PDT 2009  NO_QUERY   \n\n                    user                                              tweet  \n668876   SirrahWhitetail  Hanging out with my friend waiting for a rain ...  \n491929             mzdei                   yesdir... layin not feelin good   \n1084316       teratomata                                  Hae a nice night   \n354938         deedeeeee              Tay...where are you? miss you SO bad   \n14619    LastDitchRacing                              @NeilMcDaid shizer!    \n...                  ...                                                ...  \n1429336         beanlene            Eating cobb salad w my Patricia at CF.   \n1209803           RevFry  @hallowed_ground ever been to fremont? You cou...  \n187618    rebeccaashlers  @StacyLynn1985 as far as anything to scrape th...  \n943057           troyski  ksh scripting today to produce html code to di...  \n1461354          16Stars               @frelle  Ohhh I've love a Chai too!   \n\n[200000 rows x 6 columns]",
      "text/html": "<div>\n<style scoped>\n    .dataframe tbody tr th:only-of-type {\n        vertical-align: middle;\n    }\n\n    .dataframe tbody tr th {\n        vertical-align: top;\n    }\n\n    .dataframe thead th {\n        text-align: right;\n    }\n</style>\n<table border=\"1\" class=\"dataframe\">\n  <thead>\n    <tr style=\"text-align: right;\">\n      <th></th>\n      <th>sentiment</th>\n      <th>id</th>\n      <th>date</th>\n      <th>query</th>\n      <th>user</th>\n      <th>tweet</th>\n    </tr>\n  </thead>\n  <tbody>\n    <tr>\n      <th>668876</th>\n      <td>0</td>\n      <td>2246071641</td>\n      <td>Fri Jun 19 17:03:09 PDT 2009</td>\n      <td>NO_QUERY</td>\n      <td>SirrahWhitetail</td>\n      <td>Hanging out with my friend waiting for a rain ...</td>\n    </tr>\n    <tr>\n      <th>491929</th>\n      <td>0</td>\n      <td>2183993883</td>\n      <td>Mon Jun 15 15:16:07 PDT 2009</td>\n      <td>NO_QUERY</td>\n      <td>mzdei</td>\n      <td>yesdir... layin not feelin good</td>\n    </tr>\n    <tr>\n      <th>1084316</th>\n      <td>1</td>\n      <td>1968990643</td>\n      <td>Fri May 29 22:44:07 PDT 2009</td>\n      <td>NO_QUERY</td>\n      <td>teratomata</td>\n      <td>Hae a nice night</td>\n    </tr>\n    <tr>\n      <th>354938</th>\n      <td>0</td>\n      <td>2039868782</td>\n      <td>Thu Jun 04 23:00:58 PDT 2009</td>\n      <td>NO_QUERY</td>\n      <td>deedeeeee</td>\n      <td>Tay...where are you? miss you SO bad</td>\n    </tr>\n    <tr>\n      <th>14619</th>\n      <td>0</td>\n      <td>1553789521</td>\n      <td>Sat Apr 18 15:13:00 PDT 2009</td>\n      <td>NO_QUERY</td>\n      <td>LastDitchRacing</td>\n      <td>@NeilMcDaid shizer!</td>\n    </tr>\n    <tr>\n      <th>...</th>\n      <td>...</td>\n      <td>...</td>\n      <td>...</td>\n      <td>...</td>\n      <td>...</td>\n      <td>...</td>\n    </tr>\n    <tr>\n      <th>1429336</th>\n      <td>1</td>\n      <td>2059715623</td>\n      <td>Sat Jun 06 17:29:34 PDT 2009</td>\n      <td>NO_QUERY</td>\n      <td>beanlene</td>\n      <td>Eating cobb salad w my Patricia at CF.</td>\n    </tr>\n    <tr>\n      <th>1209803</th>\n      <td>1</td>\n      <td>1988977563</td>\n      <td>Sun May 31 23:57:28 PDT 2009</td>\n      <td>NO_QUERY</td>\n      <td>RevFry</td>\n      <td>@hallowed_ground ever been to fremont? You cou...</td>\n    </tr>\n    <tr>\n      <th>187618</th>\n      <td>0</td>\n      <td>1968688516</td>\n      <td>Fri May 29 21:59:20 PDT 2009</td>\n      <td>NO_QUERY</td>\n      <td>rebeccaashlers</td>\n      <td>@StacyLynn1985 as far as anything to scrape th...</td>\n    </tr>\n    <tr>\n      <th>943057</th>\n      <td>1</td>\n      <td>1794909240</td>\n      <td>Thu May 14 06:47:55 PDT 2009</td>\n      <td>NO_QUERY</td>\n      <td>troyski</td>\n      <td>ksh scripting today to produce html code to di...</td>\n    </tr>\n    <tr>\n      <th>1461354</th>\n      <td>1</td>\n      <td>2063926789</td>\n      <td>Sun Jun 07 04:36:40 PDT 2009</td>\n      <td>NO_QUERY</td>\n      <td>16Stars</td>\n      <td>@frelle  Ohhh I've love a Chai too!</td>\n    </tr>\n  </tbody>\n</table>\n<p>200000 rows × 6 columns</p>\n</div>"
     },
     "execution_count": 5,
     "metadata": {},
     "output_type": "execute_result"
    }
   ],
   "source": [
    "tweets['sentiment']=tweets['sentiment'].replace(4,1)\n",
    "tweets"
   ],
   "metadata": {
    "collapsed": false,
    "ExecuteTime": {
     "end_time": "2024-01-07T13:33:00.087490700Z",
     "start_time": "2024-01-07T13:33:00.022397200Z"
    }
   },
   "id": "36a742f2100148ef"
  },
  {
   "cell_type": "markdown",
   "source": [
    "#### Removing the unnecessary columns.\n"
   ],
   "metadata": {
    "collapsed": false
   },
   "id": "510c0328edd5c08b"
  },
  {
   "cell_type": "code",
   "execution_count": 6,
   "outputs": [
    {
     "data": {
      "text/plain": "         sentiment                                              tweet\n668876           0  Hanging out with my friend waiting for a rain ...\n491929           0                   yesdir... layin not feelin good \n1084316          1                                  Hae a nice night \n354938           0              Tay...where are you? miss you SO bad \n14619            0                              @NeilMcDaid shizer!  \n859015           1  @Geurtie  Ms. BoardingSchool Teachers may be e...\n1345661          1   Weekend! it's rainy but at least I can sleep in \n464656           0  @edrey0418974 thanks for folowing, seems you a...\n575078           0  I can't believe i already lost my turtle neckl...\n246581           0  @emsi_b hayfever, i've had a tablet for it and...",
      "text/html": "<div>\n<style scoped>\n    .dataframe tbody tr th:only-of-type {\n        vertical-align: middle;\n    }\n\n    .dataframe tbody tr th {\n        vertical-align: top;\n    }\n\n    .dataframe thead th {\n        text-align: right;\n    }\n</style>\n<table border=\"1\" class=\"dataframe\">\n  <thead>\n    <tr style=\"text-align: right;\">\n      <th></th>\n      <th>sentiment</th>\n      <th>tweet</th>\n    </tr>\n  </thead>\n  <tbody>\n    <tr>\n      <th>668876</th>\n      <td>0</td>\n      <td>Hanging out with my friend waiting for a rain ...</td>\n    </tr>\n    <tr>\n      <th>491929</th>\n      <td>0</td>\n      <td>yesdir... layin not feelin good</td>\n    </tr>\n    <tr>\n      <th>1084316</th>\n      <td>1</td>\n      <td>Hae a nice night</td>\n    </tr>\n    <tr>\n      <th>354938</th>\n      <td>0</td>\n      <td>Tay...where are you? miss you SO bad</td>\n    </tr>\n    <tr>\n      <th>14619</th>\n      <td>0</td>\n      <td>@NeilMcDaid shizer!</td>\n    </tr>\n    <tr>\n      <th>859015</th>\n      <td>1</td>\n      <td>@Geurtie  Ms. BoardingSchool Teachers may be e...</td>\n    </tr>\n    <tr>\n      <th>1345661</th>\n      <td>1</td>\n      <td>Weekend! it's rainy but at least I can sleep in</td>\n    </tr>\n    <tr>\n      <th>464656</th>\n      <td>0</td>\n      <td>@edrey0418974 thanks for folowing, seems you a...</td>\n    </tr>\n    <tr>\n      <th>575078</th>\n      <td>0</td>\n      <td>I can't believe i already lost my turtle neckl...</td>\n    </tr>\n    <tr>\n      <th>246581</th>\n      <td>0</td>\n      <td>@emsi_b hayfever, i've had a tablet for it and...</td>\n    </tr>\n  </tbody>\n</table>\n</div>"
     },
     "execution_count": 6,
     "metadata": {},
     "output_type": "execute_result"
    }
   ],
   "source": [
    "tweets.drop(['date','query','user'], axis=1, inplace=True)\n",
    "tweets.drop('id', axis=1, inplace=True)\n",
    "tweets.head(10)"
   ],
   "metadata": {
    "collapsed": false,
    "ExecuteTime": {
     "end_time": "2024-01-07T13:33:02.509227900Z",
     "start_time": "2024-01-07T13:33:02.375249600Z"
    }
   },
   "id": "74df18ea8f80711b"
  },
  {
   "cell_type": "markdown",
   "source": [
    "#### Checking if any null values present\n"
   ],
   "metadata": {
    "collapsed": false
   },
   "id": "83e88b45be7b63f4"
  },
  {
   "cell_type": "code",
   "execution_count": 7,
   "outputs": [
    {
     "data": {
      "text/plain": "sentiment    0.0\ntweet        0.0\ndtype: float64"
     },
     "execution_count": 7,
     "metadata": {},
     "output_type": "execute_result"
    }
   ],
   "source": [
    "(tweets.isnull().sum() / len(tweets))*100\n"
   ],
   "metadata": {
    "collapsed": false,
    "ExecuteTime": {
     "end_time": "2024-01-07T13:33:03.322465700Z",
     "start_time": "2024-01-07T13:33:03.278900500Z"
    }
   },
   "id": "cd5e4ad31dd5843b"
  },
  {
   "cell_type": "markdown",
   "source": [
    "#### Now make a new column for side by side comparison of new tweets vs old tweets"
   ],
   "metadata": {
    "collapsed": false
   },
   "id": "52881174a1176de4"
  },
  {
   "cell_type": "code",
   "execution_count": 8,
   "outputs": [],
   "source": [
    "#converting pandas object to a string type\n",
    "tweets['tweet'] = tweets['tweet'].astype('str')"
   ],
   "metadata": {
    "collapsed": false,
    "ExecuteTime": {
     "end_time": "2024-01-07T13:33:04.397402500Z",
     "start_time": "2024-01-07T13:33:04.356934600Z"
    }
   },
   "id": "857052354fe75ebc"
  },
  {
   "cell_type": "markdown",
   "source": [
    "#### Check the number of positive vs. negative tagged sentences\n"
   ],
   "metadata": {
    "collapsed": false
   },
   "id": "3aa05034aa093daf"
  },
  {
   "cell_type": "code",
   "execution_count": 9,
   "outputs": [
    {
     "name": "stdout",
     "output_type": "stream",
     "text": [
      "Total length of the data is:         200000\n",
      "No. of positve tagged sentences is:  99900\n",
      "No. of negative tagged sentences is: 100100\n"
     ]
    }
   ],
   "source": [
    "positives = tweets['sentiment'][tweets.sentiment == 1 ]\n",
    "negatives = tweets['sentiment'][tweets.sentiment == 0 ]\n",
    "\n",
    "print('Total length of the data is:         {}'.format(tweets.shape[0]))\n",
    "print('No. of positve tagged sentences is:  {}'.format(len(positives)))\n",
    "print('No. of negative tagged sentences is: {}'.format(len(negatives)))"
   ],
   "metadata": {
    "collapsed": false,
    "ExecuteTime": {
     "end_time": "2024-01-07T13:33:05.399832900Z",
     "start_time": "2024-01-07T13:33:05.379431Z"
    }
   },
   "id": "98134d479f388b7c"
  },
  {
   "cell_type": "code",
   "execution_count": 10,
   "outputs": [
    {
     "name": "stdout",
     "output_type": "stream",
     "text": [
      "{'when', 'these', 'weren', 'mightn', 'mustn', 'below', 'why', \"shouldn't\", 'be', 'same', 'yours', 'yourself', 'no', 'itself', 'hadn', \"haven't\", \"should've\", 'is', \"you've\", 'hers', 'own', \"wasn't\", 'does', \"don't\", 'how', 'me', 'at', 'all', 'myself', 'both', 'should', \"you'd\", \"mightn't\", 'yourselves', \"doesn't\", 'if', 'than', 'this', 'on', 'while', 'ma', 'because', 'its', 'through', 'before', 'nor', 'a', 'it', 'now', 'himself', 'which', 'herself', 'aren', 'am', 'up', 'again', 'off', 'few', 'further', 'once', 'during', \"won't\", 'about', \"you'll\", 'our', \"hadn't\", 'can', 'those', \"didn't\", 'other', 'in', 'wouldn', 'y', \"aren't\", 'doesn', \"it's\", 'their', 'had', 'until', 'doing', 'we', \"isn't\", 'didn', 'the', 'just', 'but', 'an', 'they', 'above', 'whom', 'your', \"needn't\", 'has', 'by', 'here', 'wasn', 'from', 'then', 'where', 'and', 'only', \"weren't\", 'being', 'themselves', \"mustn't\", 'isn', 'theirs', 'll', \"she's\", 'there', 'don', 'won', \"that'll\", 'so', 'couldn', 'you', 'more', 't', 'needn', 'them', 'out', 'over', 'his', 'very', 'did', \"wouldn't\", 'between', \"you're\", 'such', 'ourselves', 'against', 'been', 'she', 'having', \"hasn't\", 'ain', 'under', 'hasn', 'shan', 'do', 'were', 'i', 'each', 's', 're', 'what', 'that', 've', 'have', 'o', 'was', 'him', 'ours', 'as', 'or', 'some', 'are', \"shan't\", 'to', 'most', 'of', 'shouldn', 'he', 'who', 'down', 'any', 'will', 'd', 'm', \"couldn't\", 'with', 'for', 'haven', 'into', 'too', 'after', 'my', 'her', 'not'}\n"
     ]
    },
    {
     "name": "stderr",
     "output_type": "stream",
     "text": [
      "[nltk_data] Downloading package stopwords to\n",
      "[nltk_data]     C:\\Users\\NickosKal\\AppData\\Roaming\\nltk_data...\n",
      "[nltk_data]   Package stopwords is already up-to-date!\n",
      "[nltk_data] Downloading package punkt to\n",
      "[nltk_data]     C:\\Users\\NickosKal\\AppData\\Roaming\\nltk_data...\n",
      "[nltk_data]   Package punkt is already up-to-date!\n",
      "[nltk_data] Downloading package omw-1.4 to\n",
      "[nltk_data]     C:\\Users\\NickosKal\\AppData\\Roaming\\nltk_data...\n",
      "[nltk_data]   Package omw-1.4 is already up-to-date!\n",
      "[nltk_data] Downloading package wordnet to\n",
      "[nltk_data]     C:\\Users\\NickosKal\\AppData\\Roaming\\nltk_data...\n",
      "[nltk_data]   Package wordnet is already up-to-date!\n"
     ]
    }
   ],
   "source": [
    "# nltk\n",
    "import nltk\n",
    "from nltk.stem import WordNetLemmatizer\n",
    "from nltk.corpus import stopwords\n",
    "from nltk.tokenize import word_tokenize\n",
    "#Stop Words: A stop word is a commonly used word (such as “the”, “a”, “an”, “in”) \n",
    "#that a search engine has been programmed to ignore,\n",
    "#both when indexing entries for searching and when retrieving them as the result of a search query.\n",
    "nltk.download('stopwords')\n",
    "nltk.download('punkt')\n",
    "nltk.download('omw-1.4')\n",
    "nltk.download('wordnet')\n",
    "stopword = set(stopwords.words('english'))\n",
    "print(stopword)"
   ],
   "metadata": {
    "collapsed": false,
    "ExecuteTime": {
     "end_time": "2024-01-07T13:33:08.529895300Z",
     "start_time": "2024-01-07T13:33:06.072002Z"
    }
   },
   "id": "fa3d8c65cfbf6ae1"
  },
  {
   "cell_type": "markdown",
   "source": [
    "#### Data Cleaning \n"
   ],
   "metadata": {
    "collapsed": false
   },
   "id": "71d69f595c527c49"
  },
  {
   "cell_type": "code",
   "execution_count": 11,
   "outputs": [],
   "source": [
    "import warnings\n",
    "warnings.filterwarnings('ignore')\n",
    "import re\n",
    "import string\n",
    "import pickle\n",
    "urlPattern = r\"((http://)[^ ]*|(https://)[^ ]*|( www\\.)[^ ]*)\"\n",
    "userPattern = '@[^\\s]+'\n",
    "some = 'amp,today,tomorrow,going,girl'\n",
    "def process_tweets(tweet):\n",
    "  # Lower Casing\n",
    "    tweet = re.sub(r\"he's\", \"he is\", tweet)\n",
    "    tweet = re.sub(r\"there's\", \"there is\", tweet)\n",
    "    tweet = re.sub(r\"We're\", \"We are\", tweet)\n",
    "    tweet = re.sub(r\"That's\", \"That is\", tweet)\n",
    "    tweet = re.sub(r\"won't\", \"will not\", tweet)\n",
    "    tweet = re.sub(r\"they're\", \"they are\", tweet)\n",
    "    tweet = re.sub(r\"Can't\", \"Cannot\", tweet)\n",
    "    tweet = re.sub(r\"wasn't\", \"was not\", tweet)\n",
    "    tweet = re.sub(r\"don\\x89Ûªt\", \"do not\", tweet)\n",
    "    tweet = re.sub(r\"aren't\", \"are not\", tweet)\n",
    "    tweet = re.sub(r\"isn't\", \"is not\", tweet)\n",
    "    tweet = re.sub(r\"What's\", \"What is\", tweet)\n",
    "    tweet = re.sub(r\"haven't\", \"have not\", tweet)\n",
    "    tweet = re.sub(r\"hasn't\", \"has not\", tweet)\n",
    "    tweet = re.sub(r\"There's\", \"There is\", tweet)\n",
    "    tweet = re.sub(r\"He's\", \"He is\", tweet)\n",
    "    tweet = re.sub(r\"It's\", \"It is\", tweet)\n",
    "    tweet = re.sub(r\"You're\", \"You are\", tweet)\n",
    "    tweet = re.sub(r\"I'M\", \"I am\", tweet)\n",
    "    tweet = re.sub(r\"shouldn't\", \"should not\", tweet)\n",
    "    tweet = re.sub(r\"wouldn't\", \"would not\", tweet)\n",
    "    tweet = re.sub(r\"i'm\", \"I am\", tweet)\n",
    "    tweet = re.sub(r\"I\\x89Ûªm\", \"I am\", tweet)\n",
    "    tweet = re.sub(r\"I'm\", \"I am\", tweet)\n",
    "    tweet = re.sub(r\"Isn't\", \"is not\", tweet)\n",
    "    tweet = re.sub(r\"Here's\", \"Here is\", tweet)\n",
    "    tweet = re.sub(r\"you've\", \"you have\", tweet)\n",
    "    tweet = re.sub(r\"you\\x89Ûªve\", \"you have\", tweet)\n",
    "    tweet = re.sub(r\"we're\", \"we are\", tweet)\n",
    "    tweet = re.sub(r\"what's\", \"what is\", tweet)\n",
    "    tweet = re.sub(r\"couldn't\", \"could not\", tweet)\n",
    "    tweet = re.sub(r\"we've\", \"we have\", tweet)\n",
    "    tweet = re.sub(r\"it\\x89Ûªs\", \"it is\", tweet)\n",
    "    tweet = re.sub(r\"doesn\\x89Ûªt\", \"does not\", tweet)\n",
    "    tweet = re.sub(r\"It\\x89Ûªs\", \"It is\", tweet)\n",
    "    tweet = re.sub(r\"Here\\x89Ûªs\", \"Here is\", tweet)\n",
    "    tweet = re.sub(r\"who's\", \"who is\", tweet)\n",
    "    tweet = re.sub(r\"I\\x89Ûªve\", \"I have\", tweet)\n",
    "    tweet = re.sub(r\"y'all\", \"you all\", tweet)\n",
    "    tweet = re.sub(r\"can\\x89Ûªt\", \"cannot\", tweet)\n",
    "    tweet = re.sub(r\"would've\", \"would have\", tweet)\n",
    "    tweet = re.sub(r\"it'll\", \"it will\", tweet)\n",
    "    tweet = re.sub(r\"we'll\", \"we will\", tweet)\n",
    "    tweet = re.sub(r\"wouldn\\x89Ûªt\", \"would not\", tweet)\n",
    "    tweet = re.sub(r\"We've\", \"We have\", tweet)\n",
    "    tweet = re.sub(r\"he'll\", \"he will\", tweet)\n",
    "    tweet = re.sub(r\"Y'all\", \"You all\", tweet)\n",
    "    tweet = re.sub(r\"Weren't\", \"Were not\", tweet)\n",
    "    tweet = re.sub(r\"Didn't\", \"Did not\", tweet)\n",
    "    tweet = re.sub(r\"they'll\", \"they will\", tweet)\n",
    "    tweet = re.sub(r\"they'd\", \"they would\", tweet)\n",
    "    tweet = re.sub(r\"DON'T\", \"DO NOT\", tweet)\n",
    "    tweet = re.sub(r\"That\\x89Ûªs\", \"That is\", tweet)\n",
    "    tweet = re.sub(r\"they've\", \"they have\", tweet)\n",
    "    tweet = re.sub(r\"i'd\", \"I would\", tweet)\n",
    "    tweet = re.sub(r\"should've\", \"should have\", tweet)\n",
    "    tweet = re.sub(r\"You\\x89Ûªre\", \"You are\", tweet)\n",
    "    tweet = re.sub(r\"where's\", \"where is\", tweet)\n",
    "    tweet = re.sub(r\"Don\\x89Ûªt\", \"Do not\", tweet)\n",
    "    tweet = re.sub(r\"we'd\", \"we would\", tweet)\n",
    "    tweet = re.sub(r\"i'll\", \"I will\", tweet)\n",
    "    tweet = re.sub(r\"weren't\", \"were not\", tweet)\n",
    "    tweet = re.sub(r\"They're\", \"They are\", tweet)\n",
    "    tweet = re.sub(r\"Can\\x89Ûªt\", \"Cannot\", tweet)\n",
    "    tweet = re.sub(r\"you\\x89Ûªll\", \"you will\", tweet)\n",
    "    tweet = re.sub(r\"I\\x89Ûªd\", \"I would\", tweet)\n",
    "    tweet = re.sub(r\"let's\", \"let us\", tweet)\n",
    "    tweet = re.sub(r\"it's\", \"it is\", tweet)\n",
    "    tweet = re.sub(r\"can't\", \"cannot\", tweet)\n",
    "    tweet = re.sub(r\"don't\", \"do not\", tweet)\n",
    "    tweet = re.sub(r\"you're\", \"you are\", tweet)\n",
    "    tweet = re.sub(r\"i've\", \"I have\", tweet)\n",
    "    tweet = re.sub(r\"that's\", \"that is\", tweet)\n",
    "    tweet = re.sub(r\"i'll\", \"I will\", tweet)\n",
    "    tweet = re.sub(r\"doesn't\", \"does not\", tweet)\n",
    "    tweet = re.sub(r\"i'd\", \"I would\", tweet)\n",
    "    tweet = re.sub(r\"didn't\", \"did not\", tweet)\n",
    "    tweet = re.sub(r\"ain't\", \"am not\", tweet)\n",
    "    tweet = re.sub(r\"you'll\", \"you will\", tweet)\n",
    "    tweet = re.sub(r\"I've\", \"I have\", tweet)\n",
    "    tweet = re.sub(r\"Don't\", \"do not\", tweet)\n",
    "    tweet = re.sub(r\"I'll\", \"I will\", tweet)\n",
    "    tweet = re.sub(r\"I'd\", \"I would\", tweet)\n",
    "    tweet = re.sub(r\"Let's\", \"Let us\", tweet)\n",
    "    tweet = re.sub(r\"you'd\", \"You would\", tweet)\n",
    "    tweet = re.sub(r\"It's\", \"It is\", tweet)\n",
    "    tweet = re.sub(r\"Ain't\", \"am not\", tweet)\n",
    "    tweet = re.sub(r\"Haven't\", \"Have not\", tweet)\n",
    "    tweet = re.sub(r\"Could've\", \"Could have\", tweet)\n",
    "    tweet = re.sub(r\"youve\", \"you have\", tweet)  \n",
    "    tweet = re.sub(r\"donå«t\", \"do not\", tweet)  \n",
    "    \n",
    "    tweet = re.sub(r\"some1\", \"someone\", tweet)\n",
    "    tweet = re.sub(r\"yrs\", \"years\", tweet)\n",
    "    tweet = re.sub(r\"hrs\", \"hours\", tweet)\n",
    "    tweet = re.sub(r\"2morow|2moro\", \"tomorrow\", tweet)\n",
    "    tweet = re.sub(r\"2day\", \"today\", tweet)\n",
    "    tweet = re.sub(r\"4got|4gotten\", \"forget\", tweet)\n",
    "    tweet = re.sub(r\"b-day|bday\", \"b-day\", tweet)\n",
    "    tweet = re.sub(r\"mother's\", \"mother\", tweet)\n",
    "    tweet = re.sub(r\"mom's\", \"mom\", tweet)\n",
    "    tweet = re.sub(r\"dad's\", \"dad\", tweet)\n",
    "    tweet = re.sub(r\"hahah|hahaha|hahahaha\", \"haha\", tweet)\n",
    "    tweet = re.sub(r\"lmao|lolz|rofl\", \"lol\", tweet)\n",
    "    tweet = re.sub(r\"thanx|thnx\", \"thanks\", tweet)\n",
    "    tweet = re.sub(r\"goood\", \"good\", tweet)\n",
    "    tweet = re.sub(r\"some1\", \"someone\", tweet)\n",
    "    tweet = re.sub(r\"some1\", \"someone\", tweet)\n",
    "    tweet = tweet.lower()\n",
    "    tweet=tweet[1:]\n",
    "    # Removing all URls \n",
    "    tweet = re.sub(urlPattern,'',tweet)\n",
    "    # Removing all @username.\n",
    "    tweet = re.sub(userPattern,'', tweet) \n",
    "    #remove some words\n",
    "    tweet= re.sub(some,'',tweet)\n",
    "    #Remove punctuations\n",
    "    tweet = tweet.translate(str.maketrans(\"\",\"\",string.punctuation))\n",
    "    #tokenizing words\n",
    "    tokens = word_tokenize(tweet)\n",
    "    #tokens = [w for w in tokens if len(w)>2]\n",
    "    #Removing Stop Words\n",
    "    final_tokens = [w for w in tokens if w not in stopword]\n",
    "    #reducing a word to its word stem \n",
    "    wordLemm = WordNetLemmatizer()\n",
    "    finalwords=[]\n",
    "    for w in final_tokens:\n",
    "      if len(w)>1:\n",
    "        word = wordLemm.lemmatize(w)\n",
    "        finalwords.append(word)\n",
    "    return ' '.join(finalwords)"
   ],
   "metadata": {
    "collapsed": false,
    "ExecuteTime": {
     "end_time": "2024-01-07T13:33:08.583426600Z",
     "start_time": "2024-01-07T13:33:08.540647300Z"
    }
   },
   "id": "d0d7b45f08daa6ba"
  },
  {
   "cell_type": "code",
   "execution_count": 12,
   "outputs": [],
   "source": [
    "abbreviations = {\n",
    "    \"$\" : \" dollar \",\n",
    "    \"€\" : \" euro \",\n",
    "    \"4ao\" : \"for adults only\",\n",
    "    \"a.m\" : \"before midday\",\n",
    "    \"a3\" : \"anytime anywhere anyplace\",\n",
    "    \"aamof\" : \"as a matter of fact\",\n",
    "    \"acct\" : \"account\",\n",
    "    \"adih\" : \"another day in hell\",\n",
    "    \"afaic\" : \"as far as i am concerned\",\n",
    "    \"afaict\" : \"as far as i can tell\",\n",
    "    \"afaik\" : \"as far as i know\",\n",
    "    \"afair\" : \"as far as i remember\",\n",
    "    \"afk\" : \"away from keyboard\",\n",
    "    \"app\" : \"application\",\n",
    "    \"approx\" : \"approximately\",\n",
    "    \"apps\" : \"applications\",\n",
    "    \"asap\" : \"as soon as possible\",\n",
    "    \"asl\" : \"age, sex, location\",\n",
    "    \"atk\" : \"at the keyboard\",\n",
    "    \"ave.\" : \"avenue\",\n",
    "    \"aymm\" : \"are you my mother\",\n",
    "    \"ayor\" : \"at your own risk\", \n",
    "    \"b&b\" : \"bed and breakfast\",\n",
    "    \"b+b\" : \"bed and breakfast\",\n",
    "    \"b.c\" : \"before christ\",\n",
    "    \"b2b\" : \"business to business\",\n",
    "    \"b2c\" : \"business to customer\",\n",
    "    \"b4\" : \"before\",\n",
    "    \"b4n\" : \"bye for now\",\n",
    "    \"b@u\" : \"back at you\",\n",
    "    \"bae\" : \"before anyone else\",\n",
    "    \"bak\" : \"back at keyboard\",\n",
    "    \"bbbg\" : \"bye bye be good\",\n",
    "    \"bbc\" : \"british broadcasting corporation\",\n",
    "    \"bbias\" : \"be back in a second\",\n",
    "    \"bbl\" : \"be back later\",\n",
    "    \"bbs\" : \"be back soon\",\n",
    "    \"be4\" : \"before\",\n",
    "    \"bfn\" : \"bye for now\",\n",
    "    \"blvd\" : \"boulevard\",\n",
    "    \"bout\" : \"about\",\n",
    "    \"brb\" : \"be right back\",\n",
    "    \"bros\" : \"brothers\",\n",
    "    \"brt\" : \"be right there\",\n",
    "    \"bsaaw\" : \"big smile and a wink\",\n",
    "    \"btw\" : \"by the way\",\n",
    "    \"bwl\" : \"bursting with laughter\",\n",
    "    \"c/o\" : \"care of\",\n",
    "    \"cet\" : \"central european time\",\n",
    "    \"cf\" : \"compare\",\n",
    "    \"cia\" : \"central intelligence agency\",\n",
    "    \"csl\" : \"can not stop laughing\",\n",
    "    \"cu\" : \"see you\",\n",
    "    \"cul8r\" : \"see you later\",\n",
    "    \"cv\" : \"curriculum vitae\",\n",
    "    \"cwot\" : \"complete waste of time\",\n",
    "    \"cya\" : \"see you\",\n",
    "    \"cyt\" : \"see you tomorrow\",\n",
    "    \"dae\" : \"does anyone else\",\n",
    "    \"dbmib\" : \"do not bother me i am busy\",\n",
    "    \"diy\" : \"do it yourself\",\n",
    "    \"dm\" : \"direct message\",\n",
    "    \"dwh\" : \"during work hours\",\n",
    "    \"e123\" : \"easy as one two three\",\n",
    "    \"eet\" : \"eastern european time\",\n",
    "    \"eg\" : \"example\",\n",
    "    \"embm\" : \"early morning business meeting\",\n",
    "    \"encl\" : \"enclosed\",\n",
    "    \"encl.\" : \"enclosed\",\n",
    "    \"etc\" : \"and so on\",\n",
    "    \"faq\" : \"frequently asked questions\",\n",
    "    \"fawc\" : \"for anyone who cares\",\n",
    "    \"fb\" : \"facebook\",\n",
    "    \"fc\" : \"fingers crossed\",\n",
    "    \"fig\" : \"figure\",\n",
    "    \"fimh\" : \"forever in my heart\", \n",
    "    \"ft.\" : \"feet\",\n",
    "    \"ft\" : \"featuring\",\n",
    "    \"ftl\" : \"for the loss\",\n",
    "    \"ftw\" : \"for the win\",\n",
    "    \"fwiw\" : \"for what it is worth\",\n",
    "    \"fyi\" : \"for your information\",\n",
    "    \"g9\" : \"genius\",\n",
    "    \"gahoy\" : \"get a hold of yourself\",\n",
    "    \"gal\" : \"get a life\",\n",
    "    \"gcse\" : \"general certificate of secondary education\",\n",
    "    \"gfn\" : \"gone for now\",\n",
    "    \"gg\" : \"good game\",\n",
    "    \"gl\" : \"good luck\",\n",
    "    \"glhf\" : \"good luck have fun\",\n",
    "    \"gmt\" : \"greenwich mean time\",\n",
    "    \"gmta\" : \"great minds think alike\",\n",
    "    \"gn\" : \"good night\",\n",
    "    \"g.o.a.t\" : \"greatest of all time\",\n",
    "    \"goat\" : \"greatest of all time\",\n",
    "    \"goi\" : \"get over it\",\n",
    "    \"gps\" : \"global positioning system\",\n",
    "    \"gr8\" : \"great\",\n",
    "    \"gratz\" : \"congratulations\",\n",
    "    \"gyal\" : \"girl\",\n",
    "    \"h&c\" : \"hot and cold\",\n",
    "    \"hp\" : \"horsepower\",\n",
    "    \"hr\" : \"hour\",\n",
    "    \"hrh\" : \"his royal highness\",\n",
    "    \"ht\" : \"height\",\n",
    "    \"ibrb\" : \"i will be right back\",\n",
    "    \"ic\" : \"i see\",\n",
    "    \"icq\" : \"i seek you\",\n",
    "    \"icymi\" : \"in case you missed it\",\n",
    "    \"idc\" : \"i do not care\",\n",
    "    \"idgadf\" : \"i do not give a damn fuck\",\n",
    "    \"idgaf\" : \"i do not give a fuck\",\n",
    "    \"idk\" : \"i do not know\",\n",
    "    \"ie\" : \"that is\",\n",
    "    \"i.e\" : \"that is\",\n",
    "    \"ifyp\" : \"i feel your pain\",\n",
    "    \"IG\" : \"instagram\",\n",
    "    \"iirc\" : \"if i remember correctly\",\n",
    "    \"ilu\" : \"i love you\",\n",
    "    \"ily\" : \"i love you\",\n",
    "    \"imho\" : \"in my humble opinion\",\n",
    "    \"imo\" : \"in my opinion\",\n",
    "    \"imu\" : \"i miss you\",\n",
    "    \"iow\" : \"in other words\",\n",
    "    \"irl\" : \"in real life\",\n",
    "    \"j4f\" : \"just for fun\",\n",
    "    \"jic\" : \"just in case\",\n",
    "    \"jk\" : \"just kidding\",\n",
    "    \"jsyk\" : \"just so you know\",\n",
    "    \"l8r\" : \"later\",\n",
    "    \"lb\" : \"pound\",\n",
    "    \"lbs\" : \"pounds\",\n",
    "    \"ldr\" : \"long distance relationship\",\n",
    "    \"lmao\" : \"laugh my ass off\",\n",
    "    \"lmfao\" : \"laugh my fucking ass off\",\n",
    "    \"lol\" : \"laughing out loud\",\n",
    "    \"ltd\" : \"limited\",\n",
    "    \"ltns\" : \"long time no see\",\n",
    "    \"m8\" : \"mate\",\n",
    "    \"mf\" : \"motherfucker\",\n",
    "    \"mfs\" : \"motherfuckers\",\n",
    "    \"mfw\" : \"my face when\",\n",
    "    \"mofo\" : \"motherfucker\",\n",
    "    \"mph\" : \"miles per hour\",\n",
    "    \"mr\" : \"mister\",\n",
    "    \"mrw\" : \"my reaction when\",\n",
    "    \"ms\" : \"miss\",\n",
    "    \"mte\" : \"my thoughts exactly\",\n",
    "    \"nagi\" : \"not a good idea\",\n",
    "    \"nbc\" : \"national broadcasting company\",\n",
    "    \"nbd\" : \"not big deal\",\n",
    "    \"nfs\" : \"not for sale\",\n",
    "    \"ngl\" : \"not going to lie\",\n",
    "    \"nhs\" : \"national health service\",\n",
    "    \"nrn\" : \"no reply necessary\",\n",
    "    \"nsfl\" : \"not safe for life\",\n",
    "    \"nsfw\" : \"not safe for work\",\n",
    "    \"nth\" : \"nice to have\",\n",
    "    \"nvr\" : \"never\",\n",
    "    \"nyc\" : \"new york city\",\n",
    "    \"oc\" : \"original content\",\n",
    "    \"og\" : \"original\",\n",
    "    \"ohp\" : \"overhead projector\",\n",
    "    \"oic\" : \"oh i see\",\n",
    "    \"omdb\" : \"over my dead body\",\n",
    "    \"omg\" : \"oh my god\",\n",
    "    \"omw\" : \"on my way\",\n",
    "    \"p.a\" : \"per annum\",\n",
    "    \"p.m\" : \"after midday\",\n",
    "    \"pm\" : \"prime minister\",\n",
    "    \"poc\" : \"people of color\",\n",
    "    \"pov\" : \"point of view\",\n",
    "    \"pp\" : \"pages\",\n",
    "    \"ppl\" : \"people\",\n",
    "    \"prw\" : \"parents are watching\",\n",
    "    \"ps\" : \"postscript\",\n",
    "    \"pt\" : \"point\",\n",
    "    \"ptb\" : \"please text back\",\n",
    "    \"pto\" : \"please turn over\",\n",
    "    \"qpsa\" : \"what happens\", \n",
    "    \"ratchet\" : \"rude\",\n",
    "    \"rbtl\" : \"read between the lines\",\n",
    "    \"rlrt\" : \"real life retweet\", \n",
    "    \"rofl\" : \"rolling on the floor laughing\",\n",
    "    \"roflol\" : \"rolling on the floor laughing out loud\",\n",
    "    \"rotflmao\" : \"rolling on the floor laughing my ass off\",\n",
    "    \"rt\" : \"retweet\",\n",
    "    \"ruok\" : \"are you ok\",\n",
    "    \"sfw\" : \"safe for work\",\n",
    "     \"sk8\" : \"skate\",\n",
    "    \"smh\" : \"shake my head\",\n",
    "    \"sq\" : \"square\",\n",
    "    \"srsly\" : \"seriously\", \n",
    "    \"ssdd\" : \"same stuff different day\",\n",
    "    \"tbh\" : \"to be honest\",\n",
    "    \"tbs\" : \"tablespooful\",\n",
    "    \"tbsp\" : \"tablespooful\",\n",
    "    \"tfw\" : \"that feeling when\",\n",
    "    \"thks\" : \"thank you\",\n",
    "    \"tho\" : \"though\",\n",
    "    \"thx\" : \"thank you\",\n",
    "    \"tia\" : \"thanks in advance\",\n",
    "    \"til\" : \"today i learned\",\n",
    "    \"tl;dr\" : \"too long i did not read\",\n",
    "    \"tldr\" : \"too long i did not read\",\n",
    "    \"tmb\" : \"tweet me back\",\n",
    "    \"tntl\" : \"trying not to laugh\",\n",
    "    \"ttyl\" : \"talk to you later\",\n",
    "    \"u\" : \"you\",\n",
    "    \"u2\" : \"you too\",\n",
    "    \"u4e\" : \"yours for ever\",\n",
    "    \"utc\" : \"coordinated universal time\",\n",
    "    \"w/\" : \"with\",\n",
    "    \"w/o\" : \"without\",\n",
    "    \"w8\" : \"wait\",\n",
    "    \"wassup\" : \"what is up\",\n",
    "    \"wb\" : \"welcome back\",\n",
    "    \"wtf\" : \"what the fuck\",\n",
    "    \"wtg\" : \"way to go\",\n",
    "    \"wtpa\" : \"where the party at\",\n",
    "    \"wuf\" : \"where are you from\",\n",
    "    \"wuzup\" : \"what is up\",\n",
    "    \"wywh\" : \"wish you were here\",\n",
    "    \"yd\" : \"yard\",\n",
    "    \"ygtr\" : \"you got that right\",\n",
    "    \"ynk\" : \"you never know\",\n",
    "    \"zzz\" : \"sleeping bored and tired\"\n",
    "}"
   ],
   "metadata": {
    "collapsed": false,
    "ExecuteTime": {
     "end_time": "2024-01-07T13:33:08.596530900Z",
     "start_time": "2024-01-07T13:33:08.564488900Z"
    }
   },
   "id": "a5462a0a39091638"
  },
  {
   "cell_type": "code",
   "execution_count": 13,
   "outputs": [],
   "source": [
    "def convert_abbrev_in_text(tweet):\n",
    "    t=[]\n",
    "    words=tweet.split()\n",
    "    t = [abbreviations[w.lower()] if w.lower() in abbreviations.keys() else w for w in words]\n",
    "    return ' '.join(t) "
   ],
   "metadata": {
    "collapsed": false,
    "ExecuteTime": {
     "end_time": "2024-01-07T13:33:09.319725800Z",
     "start_time": "2024-01-07T13:33:09.297074400Z"
    }
   },
   "id": "bd9723fd50afefb9"
  },
  {
   "cell_type": "markdown",
   "source": [
    "#### Text processing completed\n"
   ],
   "metadata": {
    "collapsed": false
   },
   "id": "c1fe7c81d0917e6b"
  },
  {
   "cell_type": "code",
   "execution_count": 14,
   "outputs": [
    {
     "name": "stdout",
     "output_type": "stream",
     "text": [
      "Text Preprocessing complete.\n"
     ]
    },
    {
     "data": {
      "text/plain": "         sentiment                                              tweet  \\\n668876           0  Hanging out with my friend waiting for a rain ...   \n491929           0                   yesdir... layin not feelin good    \n1084316          1                                  Hae a nice night    \n354938           0              Tay...where are you? miss you SO bad    \n14619            0                              @NeilMcDaid shizer!     \n...            ...                                                ...   \n1429336          1            Eating cobb salad w my Patricia at CF.    \n1209803          1  @hallowed_ground ever been to fremont? You cou...   \n187618           0  @StacyLynn1985 as far as anything to scrape th...   \n943057           1  ksh scripting today to produce html code to di...   \n1461354          1               @frelle  Ohhh I've love a Chai too!    \n\n                                          processed_tweets  \n668876   anging friend waiting rain band pas looking hu...  \n491929                             esdir layin feelin good  \n1084316                                      ae nice night  \n354938                                    aywhere miss bad  \n14619                                    neilmcdaid shizer  \n...                                                    ...  \n1429336                  ating cobb salad patricia compare  \n1209803             hallowedground ever fremont could help  \n187618        stacylynn1985 far anything scrape teeth clue  \n943057   sh scripting today produce html code display p...  \n1461354                              frelle ohhh love chai  \n\n[200000 rows x 3 columns]",
      "text/html": "<div>\n<style scoped>\n    .dataframe tbody tr th:only-of-type {\n        vertical-align: middle;\n    }\n\n    .dataframe tbody tr th {\n        vertical-align: top;\n    }\n\n    .dataframe thead th {\n        text-align: right;\n    }\n</style>\n<table border=\"1\" class=\"dataframe\">\n  <thead>\n    <tr style=\"text-align: right;\">\n      <th></th>\n      <th>sentiment</th>\n      <th>tweet</th>\n      <th>processed_tweets</th>\n    </tr>\n  </thead>\n  <tbody>\n    <tr>\n      <th>668876</th>\n      <td>0</td>\n      <td>Hanging out with my friend waiting for a rain ...</td>\n      <td>anging friend waiting rain band pas looking hu...</td>\n    </tr>\n    <tr>\n      <th>491929</th>\n      <td>0</td>\n      <td>yesdir... layin not feelin good</td>\n      <td>esdir layin feelin good</td>\n    </tr>\n    <tr>\n      <th>1084316</th>\n      <td>1</td>\n      <td>Hae a nice night</td>\n      <td>ae nice night</td>\n    </tr>\n    <tr>\n      <th>354938</th>\n      <td>0</td>\n      <td>Tay...where are you? miss you SO bad</td>\n      <td>aywhere miss bad</td>\n    </tr>\n    <tr>\n      <th>14619</th>\n      <td>0</td>\n      <td>@NeilMcDaid shizer!</td>\n      <td>neilmcdaid shizer</td>\n    </tr>\n    <tr>\n      <th>...</th>\n      <td>...</td>\n      <td>...</td>\n      <td>...</td>\n    </tr>\n    <tr>\n      <th>1429336</th>\n      <td>1</td>\n      <td>Eating cobb salad w my Patricia at CF.</td>\n      <td>ating cobb salad patricia compare</td>\n    </tr>\n    <tr>\n      <th>1209803</th>\n      <td>1</td>\n      <td>@hallowed_ground ever been to fremont? You cou...</td>\n      <td>hallowedground ever fremont could help</td>\n    </tr>\n    <tr>\n      <th>187618</th>\n      <td>0</td>\n      <td>@StacyLynn1985 as far as anything to scrape th...</td>\n      <td>stacylynn1985 far anything scrape teeth clue</td>\n    </tr>\n    <tr>\n      <th>943057</th>\n      <td>1</td>\n      <td>ksh scripting today to produce html code to di...</td>\n      <td>sh scripting today produce html code display p...</td>\n    </tr>\n    <tr>\n      <th>1461354</th>\n      <td>1</td>\n      <td>@frelle  Ohhh I've love a Chai too!</td>\n      <td>frelle ohhh love chai</td>\n    </tr>\n  </tbody>\n</table>\n<p>200000 rows × 3 columns</p>\n</div>"
     },
     "execution_count": 14,
     "metadata": {},
     "output_type": "execute_result"
    }
   ],
   "source": [
    "tweets['processed_tweets'] = tweets['tweet'].apply(lambda x: process_tweets(x))\n",
    "tweets['processed_tweets'] = tweets['processed_tweets'].apply(lambda x: convert_abbrev_in_text(x))\n",
    "print('Text Preprocessing complete.')\n",
    "tweets"
   ],
   "metadata": {
    "collapsed": false,
    "ExecuteTime": {
     "end_time": "2024-01-07T13:33:58.002893600Z",
     "start_time": "2024-01-07T13:33:10.351731300Z"
    }
   },
   "id": "afead7d680f32d65"
  },
  {
   "cell_type": "code",
   "execution_count": 15,
   "outputs": [
    {
     "data": {
      "text/plain": "         sentiment                                              tweet  \\\n668876           0  Hanging out with my friend waiting for a rain ...   \n491929           0                   yesdir... layin not feelin good    \n1084316          1                                  Hae a nice night    \n354938           0              Tay...where are you? miss you SO bad    \n14619            0                              @NeilMcDaid shizer!     \n\n                                          processed_tweets  \n668876   anging friend waiting rain band looking huge s...  \n491929                             esdir layin feelin good  \n1084316                                         nice night  \n354938                                        aywhere miss  \n14619                                    neilmcdaid shizer  ",
      "text/html": "<div>\n<style scoped>\n    .dataframe tbody tr th:only-of-type {\n        vertical-align: middle;\n    }\n\n    .dataframe tbody tr th {\n        vertical-align: top;\n    }\n\n    .dataframe thead th {\n        text-align: right;\n    }\n</style>\n<table border=\"1\" class=\"dataframe\">\n  <thead>\n    <tr style=\"text-align: right;\">\n      <th></th>\n      <th>sentiment</th>\n      <th>tweet</th>\n      <th>processed_tweets</th>\n    </tr>\n  </thead>\n  <tbody>\n    <tr>\n      <th>668876</th>\n      <td>0</td>\n      <td>Hanging out with my friend waiting for a rain ...</td>\n      <td>anging friend waiting rain band looking huge s...</td>\n    </tr>\n    <tr>\n      <th>491929</th>\n      <td>0</td>\n      <td>yesdir... layin not feelin good</td>\n      <td>esdir layin feelin good</td>\n    </tr>\n    <tr>\n      <th>1084316</th>\n      <td>1</td>\n      <td>Hae a nice night</td>\n      <td>nice night</td>\n    </tr>\n    <tr>\n      <th>354938</th>\n      <td>0</td>\n      <td>Tay...where are you? miss you SO bad</td>\n      <td>aywhere miss</td>\n    </tr>\n    <tr>\n      <th>14619</th>\n      <td>0</td>\n      <td>@NeilMcDaid shizer!</td>\n      <td>neilmcdaid shizer</td>\n    </tr>\n  </tbody>\n</table>\n</div>"
     },
     "execution_count": 15,
     "metadata": {},
     "output_type": "execute_result"
    }
   ],
   "source": [
    "#removing short words\n",
    "tweets['processed_tweets']=tweets['processed_tweets'].apply(lambda x: \" \".join([w for w in x.split() if len(w)>3]))\n",
    "tweets.head(5)"
   ],
   "metadata": {
    "collapsed": false,
    "ExecuteTime": {
     "end_time": "2024-01-07T13:33:58.319811800Z",
     "start_time": "2024-01-07T13:33:57.994234900Z"
    }
   },
   "id": "e62382d55dd04209"
  },
  {
   "cell_type": "code",
   "execution_count": 35,
   "outputs": [],
   "source": [
    "pre_processed_tweets = tweets"
   ],
   "metadata": {
    "collapsed": false,
    "ExecuteTime": {
     "end_time": "2024-01-07T14:02:31.475925500Z",
     "start_time": "2024-01-07T14:02:31.455056200Z"
    }
   },
   "id": "b7d062df02d215a2"
  },
  {
   "cell_type": "code",
   "execution_count": 40,
   "outputs": [],
   "source": [
    "pre_processed_tweets.to_csv(\"pre_processed_tweets.csv\", index=False)"
   ],
   "metadata": {
    "collapsed": false,
    "ExecuteTime": {
     "end_time": "2024-01-07T14:04:25.225591900Z",
     "start_time": "2024-01-07T14:04:11.564956900Z"
    }
   },
   "id": "60f141f91fade36e"
  },
  {
   "cell_type": "code",
   "execution_count": 49,
   "outputs": [],
   "source": [
    "data = pd.read_csv(\"pre_processed_tweets.csv\")"
   ],
   "metadata": {
    "collapsed": false,
    "ExecuteTime": {
     "end_time": "2024-01-07T14:05:52.950545200Z",
     "start_time": "2024-01-07T14:05:52.530177900Z"
    }
   },
   "id": "edd1c3538faffb2f"
  },
  {
   "cell_type": "code",
   "execution_count": 50,
   "outputs": [],
   "source": [
    "new_data = data.dropna()"
   ],
   "metadata": {
    "collapsed": false,
    "ExecuteTime": {
     "end_time": "2024-01-07T14:05:53.794304500Z",
     "start_time": "2024-01-07T14:05:53.736804500Z"
    }
   },
   "id": "8734be9d150d17f5"
  },
  {
   "cell_type": "code",
   "execution_count": 51,
   "outputs": [],
   "source": [
    "new_data.to_csv(\"data_for_theoretical_notebook_1.csv\")"
   ],
   "metadata": {
    "collapsed": false,
    "ExecuteTime": {
     "end_time": "2024-01-07T14:05:55.253810500Z",
     "start_time": "2024-01-07T14:05:54.498004200Z"
    }
   },
   "id": "12e5efdfccbadfbe"
  },
  {
   "cell_type": "code",
   "execution_count": null,
   "outputs": [],
   "source": [],
   "metadata": {
    "collapsed": false
   },
   "id": "feb572105b9481a"
  }
 ],
 "metadata": {
  "kernelspec": {
   "display_name": "Python 3",
   "language": "python",
   "name": "python3"
  },
  "language_info": {
   "codemirror_mode": {
    "name": "ipython",
    "version": 2
   },
   "file_extension": ".py",
   "mimetype": "text/x-python",
   "name": "python",
   "nbconvert_exporter": "python",
   "pygments_lexer": "ipython2",
   "version": "2.7.6"
  }
 },
 "nbformat": 4,
 "nbformat_minor": 5
}
